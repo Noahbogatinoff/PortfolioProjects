{
 "cells": [
  {
   "cell_type": "code",
   "execution_count": 2,
   "source": [
    "#import the initial libraries used\n",
    "from bs4 import BeautifulSoup\n",
    "import requests\n",
    "import datetime\n",
    "import csv\n",
    "import pandas as pd\n",
    "import time"
   ],
   "outputs": [],
   "metadata": {}
  },
  {
   "cell_type": "code",
   "execution_count": null,
   "source": [
    "#Connect to business insider website displaying Apple stock price\n",
    "url = requests.get('https://markets.businessinsider.com/stocks/aapl-stock')\n",
    "html_code = url.text\n",
    "print(html_code)"
   ],
   "outputs": [],
   "metadata": {}
  },
  {
   "cell_type": "code",
   "execution_count": null,
   "source": [
    "#create BeautifulSoup object\n",
    "soup = BeautifulSoup(html_code, 'html.parser')\n",
    "\n",
    "stock_title=soup.find(class_='price-section__label').get_text()\n",
    "stock_price=soup.find(class_='price-section__current-value').get_text()\n",
    "\n",
    "print(stock_title)\n",
    "print(stock_price)"
   ],
   "outputs": [],
   "metadata": {}
  },
  {
   "cell_type": "code",
   "execution_count": null,
   "source": [
    "#Create timestamp for each data value collected\n",
    "today = datetime.date.today()\n",
    "print(today)"
   ],
   "outputs": [],
   "metadata": {}
  },
  {
   "cell_type": "code",
   "execution_count": 30,
   "source": [
    "#create a csv file with each output recorded\n",
    "#IF YOU WANT TO RESET FILE, RUN COMMENTED OUT CODE\n",
    "header = ['Date', 'Stock Name', 'Price']\n",
    "data = [today, stock_title, stock_price]\n",
    "\n",
    "#with open ('AppleStockPrice.csv', 'w', newline='', encoding='utf-8') as f:\n",
    "#    writer = csv.writer(f)\n",
    "#    writer.writerow(header)\n",
    "#    writer.writerow(data)"
   ],
   "outputs": [],
   "metadata": {}
  },
  {
   "cell_type": "code",
   "execution_count": 32,
   "source": [
    "#View new file\n",
    "df = pd.read_csv(r'/Users/noahbogatinoff/Downloads/Data Analyst Portfolio/apple stock price web scraper/AppleStockPrice.csv')\n",
    "print(df)"
   ],
   "outputs": [
    {
     "output_type": "stream",
     "name": "stdout",
     "text": [
      "         Date   Stock Name   Price\n",
      "0  2021-09-26  Apple Inc.   146.97\n"
     ]
    }
   ],
   "metadata": {}
  },
  {
   "cell_type": "code",
   "execution_count": null,
   "source": [
    "#Create a set of statements for appending the csv file with future output\n",
    "with open ('AppleStockPrice.csv', 'a+', newline='', encoding='utf-8') as f:\n",
    "    writer = csv.writer(f)\n",
    "    writer.writerow(data)\n",
    "\n",
    "# Display new file data\n",
    "df = pd.read_csv(r'/Users/noahbogatinoff/Downloads/Data Analyst Portfolio/apple stock price web scraper/AppleStockPrice.csv')\n",
    "print(df)"
   ],
   "outputs": [],
   "metadata": {}
  },
  {
   "cell_type": "code",
   "execution_count": 27,
   "source": [
    "#create check price function to automate data retrieval process\n",
    "def check_price():\n",
    "    url = requests.get('https://markets.businessinsider.com/stocks/aapl-stock')\n",
    "    html_code = url.text\n",
    "\n",
    "    soup = BeautifulSoup(html_code, 'html.parser')\n",
    "    stock_title=soup.find(class_='price-section__label').get_text()\n",
    "    stock_price=soup.find(class_='price-section__current-value').get_text()\n",
    "    \n",
    "    today = datetime.date.today()\n",
    "\n",
    "    header = ['Date', 'Stock Name', 'Price']\n",
    "    data = [today, stock_title, stock_price]\n",
    "\n",
    "    with open ('AppleStockPrice.csv', 'a+', newline='', encoding='utf-8') as f:\n",
    "        writer = csv.writer(f)\n",
    "        writer.writerow(data)\n",
    "    \n",
    "    if(stock_price< 120):\n",
    "        send_mail()"
   ],
   "outputs": [],
   "metadata": {}
  },
  {
   "cell_type": "code",
   "execution_count": null,
   "source": [
    "#check webpage in set time interval (86400 seconds)\n",
    "while(True):\n",
    "    check_price()\n",
    "    time.sleep(86400)"
   ],
   "outputs": [],
   "metadata": {}
  },
  {
   "cell_type": "code",
   "execution_count": null,
   "source": [
    "import pandas as pd\n",
    "\n",
    "df = pd.read_csv(r'/Users/noahbogatinoff/Downloads/Data Analyst Portfolio/Amazon Web Scraper/AmazonWebScraper.csv')\n",
    "print(df)"
   ],
   "outputs": [],
   "metadata": {}
  },
  {
   "cell_type": "code",
   "execution_count": null,
   "source": [
    "#set notification to let me know when the price reaches set point\n",
    "import smtplib\n",
    "def send_mail():\n",
    "    email = smtplib.SMTP_SSL('smtp.gmail.com', 465)\n",
    "    email.ehlo()\n",
    "    email.login('noahbog008@gmail.com', 'PASSCODE')\n",
    "\n",
    "    subject = 'test'\n",
    "    body = 'test'\n",
    "    message = f'Subject: {subject}\\n\\n{body}'\n",
    "\n",
    "    email.sendmail('noahbog008@gmail.com', message)"
   ],
   "outputs": [],
   "metadata": {}
  }
 ],
 "metadata": {
  "orig_nbformat": 4,
  "language_info": {
   "name": "python",
   "version": "3.9.7",
   "mimetype": "text/x-python",
   "codemirror_mode": {
    "name": "ipython",
    "version": 3
   },
   "pygments_lexer": "ipython3",
   "nbconvert_exporter": "python",
   "file_extension": ".py"
  },
  "kernelspec": {
   "name": "python3",
   "display_name": "Python 3.9.7 64-bit"
  },
  "interpreter": {
   "hash": "aee8b7b246df8f9039afb4144a1f6fd8d2ca17a180786b69acc140d282b71a49"
  }
 },
 "nbformat": 4,
 "nbformat_minor": 2
}